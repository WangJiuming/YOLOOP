{
 "cells": [
  {
   "cell_type": "code",
   "execution_count": 1,
   "id": "e08eb00d",
   "metadata": {},
   "outputs": [],
   "source": [
    "import os\n",
    "from tqdm import tqdm_notebook\n",
    "import json as js\n",
    "import numpy as np\n",
    "import matplotlib.pyplot as plt\n",
    "import seaborn as sns\n",
    "import pandas as pd\n",
    "resolution = 10000\n",
    "experiment = 'hic'\n",
    "cell_type = 'gm12878'\n",
    "\n",
    "chrom = 'chr14'"
   ]
  },
  {
   "cell_type": "code",
   "execution_count": 2,
   "id": "519720a1",
   "metadata": {},
   "outputs": [],
   "source": [
    "loop_file = 'yoloop_prediction/10kb/yoloop_pred_{}.bedpe'.format(cell_type)"
   ]
  },
  {
   "cell_type": "code",
   "execution_count": 3,
   "id": "5de72605",
   "metadata": {},
   "outputs": [],
   "source": [
    "target_chrom_sequence = js.load(open('/Dataset/HiC/hg38/{}.json'.format(chrom)) )\n",
    "all_sequence = target_chrom_sequence[chrom]"
   ]
  },
  {
   "cell_type": "code",
   "execution_count": 4,
   "id": "6ac7ca7c",
   "metadata": {},
   "outputs": [],
   "source": [
    "def read_pred_loops(loop_path, target_chrom):\n",
    "    \n",
    "    loops = []\n",
    "    with open(loop_path, 'r') as file:\n",
    "        for line in file:\n",
    "            line = line.strip('\\n').split('\\t')[:7]\n",
    "            \n",
    "            chrom = line[0]\n",
    "            if chrom != target_chrom:\n",
    "                continue            \n",
    "            x = int((int(line[1]) + int(line[2])) * 0.5)\n",
    "            y = int((int(line[4]) + int(line[5])) * 0.5)\n",
    "            \n",
    "            loop_sequence = all_sequence[x:y].upper()\n",
    "            loops.append([x,y,loop_sequence])\n",
    "    return loops \n",
    "\n",
    "def read_chipseq(chipseq_file,target_chrom):\n",
    "    chipseq_peaks = []\n",
    "    \n",
    "    with open(chipseq_file, 'r') as file:\n",
    "        for line in tqdm_notebook(file):\n",
    "            line = line.strip('\\n').split('\\t')\n",
    "            chro = line[0]\n",
    "            \n",
    "            if chro != target_chrom:\n",
    "                continue\n",
    "            \n",
    "            peak_start = int(line[1])\n",
    "            peak_end = int(line[2])\n",
    "            peak_sequence = all_sequence[peak_start:peak_end].upper()\n",
    "            chipseq_peaks.append([line[0],line[1],line[2],line[6],peak_sequence])\n",
    "    return chipseq_peaks"
   ]
  },
  {
   "cell_type": "code",
   "execution_count": 5,
   "id": "2c69951d",
   "metadata": {},
   "outputs": [],
   "source": [
    "loops = read_pred_loops(loop_file, chrom)"
   ]
  },
  {
   "cell_type": "code",
   "execution_count": 6,
   "id": "ddf39a07",
   "metadata": {},
   "outputs": [
    {
     "data": {
      "text/plain": [
       "3350"
      ]
     },
     "execution_count": 6,
     "metadata": {},
     "output_type": "execute_result"
    }
   ],
   "source": [
    "len(loops)"
   ]
  },
  {
   "cell_type": "markdown",
   "id": "31011ef5",
   "metadata": {},
   "source": [
    "# Load Chipseq"
   ]
  },
  {
   "cell_type": "code",
   "execution_count": 7,
   "id": "d6395e21",
   "metadata": {},
   "outputs": [],
   "source": [
    "TF = 'ctcf'\n",
    "# TF = 'rad21'"
   ]
  },
  {
   "cell_type": "code",
   "execution_count": 8,
   "id": "67a22047",
   "metadata": {},
   "outputs": [
    {
     "name": "stderr",
     "output_type": "stream",
     "text": [
      "/home/chens0a/.conda/envs/python36/lib/python3.6/site-packages/ipykernel_launcher.py:22: TqdmDeprecationWarning: This function will be removed in tqdm==5.0.0\n",
      "Please use `tqdm.notebook.tqdm` instead of `tqdm.tqdm_notebook`\n"
     ]
    },
    {
     "data": {
      "application/vnd.jupyter.widget-view+json": {
       "model_id": "d99a877a95e9479c8e798161d967f4de",
       "version_major": 2,
       "version_minor": 0
      },
      "text/plain": [
       "0it [00:00, ?it/s]"
      ]
     },
     "metadata": {},
     "output_type": "display_data"
    }
   ],
   "source": [
    "chip_seq_file = 'chipseq/{}_{}_chipseq.bed'.format(cell_type,TF)\n",
    "\n",
    "chip_seq_peaks = read_chipseq(chip_seq_file,chrom)"
   ]
  },
  {
   "cell_type": "code",
   "execution_count": 9,
   "id": "a8490fbc",
   "metadata": {},
   "outputs": [
    {
     "data": {
      "text/plain": [
       "1364"
      ]
     },
     "execution_count": 9,
     "metadata": {},
     "output_type": "execute_result"
    }
   ],
   "source": [
    "len(chip_seq_peaks)"
   ]
  },
  {
   "cell_type": "markdown",
   "id": "800bede7",
   "metadata": {},
   "source": [
    "# Match"
   ]
  },
  {
   "cell_type": "code",
   "execution_count": 10,
   "id": "6c6238f1",
   "metadata": {},
   "outputs": [
    {
     "name": "stderr",
     "output_type": "stream",
     "text": [
      "/home/chens0a/.conda/envs/python36/lib/python3.6/site-packages/ipykernel_launcher.py:5: TqdmDeprecationWarning: This function will be removed in tqdm==5.0.0\n",
      "Please use `tqdm.notebook.tqdm` instead of `tqdm.tqdm_notebook`\n",
      "  \"\"\"\n"
     ]
    },
    {
     "data": {
      "application/vnd.jupyter.widget-view+json": {
       "model_id": "988545071e6b444eaa057d7e7b4d7e9e",
       "version_major": 2,
       "version_minor": 0
      },
      "text/plain": [
       "  0%|          | 0/3350 [00:00<?, ?it/s]"
      ]
     },
     "metadata": {},
     "output_type": "display_data"
    }
   ],
   "source": [
    "loop_motifs = []\n",
    "loop_distances = []\n",
    "loop_peakscores = []\n",
    "\n",
    "for loop in tqdm_notebook(loops):\n",
    "    start_point = int(loop[0])\n",
    "    \n",
    "    min_dis_start = 999999999999\n",
    "    output_dis_start = 0\n",
    "    start_peakscore = 0\n",
    "    motif_start_pt = ''\n",
    "    peak_score = 0\n",
    "    for chip_peak in chip_seq_peaks:\n",
    "        peak_center = (int(chip_peak[1]) + int(chip_peak[2])) *0.5\n",
    "        distance = abs(peak_center - start_point)\n",
    "        if distance < min_dis_start:\n",
    "            min_dis_start = distance\n",
    "            output_dis_start = peak_center - start_point\n",
    "            motif_sequence = chip_peak[4]\n",
    "            start_peakscore = chip_peak[3]\n",
    "            peak_score = chip_peak[3]\n",
    "    \n",
    "    loop_motifs.append(motif_sequence)\n",
    "    loop_distances.append(output_dis_start)\n",
    "    loop_peakscores.append(peak_score)\n",
    "    \n",
    "    \n",
    "    min_dis_end = 999999999999\n",
    "    output_dis_end = 0\n",
    "    end_peakscore = 0\n",
    "    motif_end_pt = ''\n",
    "    peak_score = 0\n",
    "    end_point = loop[1]\n",
    "    for chip_peak in chip_seq_peaks:\n",
    "        peak_center = (int(chip_peak[1]) + int(chip_peak[2])) *0.5\n",
    "        distance = abs(peak_center - end_point)\n",
    "        if distance < min_dis_end:\n",
    "            min_dis_end = distance\n",
    "            output_dis_end = peak_center - start_point\n",
    "            motif_sequence = chip_peak[4]\n",
    "            end_peakscore = chip_peak[3]\n",
    "            peak_score = chip_peak[3]\n",
    "            \n",
    "    loop_motifs.append(motif_sequence)\n",
    "    loop_peakscores.append(peak_score)\n",
    "    loop_distances.append(output_dis_end)\n",
    "    "
   ]
  },
  {
   "cell_type": "markdown",
   "id": "3ba32717",
   "metadata": {},
   "source": [
    "# Draw Motifs"
   ]
  },
  {
   "cell_type": "code",
   "execution_count": 12,
   "id": "d7e3705a",
   "metadata": {},
   "outputs": [],
   "source": [
    "ctcf_binded_sequence = []\n",
    "\n",
    "for i in range(len(loop_distances)):\n",
    "    dis = loop_distances[i]\n",
    "    if abs(dis) < 10000:\n",
    "        ctcf_binded_sequence.append(loop_motifs[i])"
   ]
  },
  {
   "cell_type": "code",
   "execution_count": 13,
   "id": "bbb04817",
   "metadata": {},
   "outputs": [
    {
     "data": {
      "text/plain": [
       "1279"
      ]
     },
     "execution_count": 13,
     "metadata": {},
     "output_type": "execute_result"
    }
   ],
   "source": [
    "len(ctcf_binded_sequence)"
   ]
  },
  {
   "cell_type": "code",
   "execution_count": 14,
   "id": "3097c30c",
   "metadata": {},
   "outputs": [],
   "source": [
    "def write_fastq(sequences, output_file):\n",
    "    with open(output_file, 'w') as f:\n",
    "        for seq_id, sequence in enumerate(sequences):\n",
    "            if len(sequence) == 0:\n",
    "                continue\n",
    "            \n",
    "            f.write(f\">loop_{seq_id}\\n\")\n",
    "            f.write(f\"{sequence}\\n\")\n",
    "            f.write(\"\\n\")"
   ]
  },
  {
   "cell_type": "code",
   "execution_count": 15,
   "id": "2722fb9a",
   "metadata": {},
   "outputs": [],
   "source": [
    "write_fastq(ctcf_binded_sequence, '{}_binded.fastq'.format(TF))"
   ]
  },
  {
   "cell_type": "markdown",
   "id": "ad309a08",
   "metadata": {},
   "source": [
    "# MEME motif Logo Discovery"
   ]
  },
  {
   "cell_type": "markdown",
   "id": "572a8717",
   "metadata": {},
   "source": [
    "1. Download the software from https://meme-suite.org/doc/download.html\n",
    "2. Type the following commands\n",
    "```tar zxf meme-5.5.5.tar.gz\n",
    "cd meme-5.5.5\n",
    "make\n",
    "make test\n",
    "make install\n",
    "```\n",
    "3. Edit your shell configuration file to add \n",
    "```/HOME/meme/bin and /HOME/meme/libexec/meme-5.5.5 ```\n",
    "to your shell's path. This can often be done by editing the file named .profile to add the following line:\n",
    "```export PATH=/HOME/meme/bin:/HOME/meme/libexec/meme-5.5.5:$PATH```"
   ]
  },
  {
   "cell_type": "markdown",
   "id": "ec4a637b",
   "metadata": {},
   "source": [
    "Then you are able to discover motifs from the previous FASTQ file:\n",
    "\n",
    "```\n",
    " meme ctcf_binded.fastq -oc bind_logo -dna -maxw 15 -nmotifs 3\n",
    "\n",
    "```\n",
    "\n",
    "The command find the top 3 scored 15-mer motif in the generated ctcf_binded.fastq file in dir bind_logo/"
   ]
  },
  {
   "cell_type": "markdown",
   "id": "fda44fee",
   "metadata": {},
   "source": [
    "# Loop Score Distribution"
   ]
  },
  {
   "cell_type": "code",
   "execution_count": 30,
   "id": "9f7f9187",
   "metadata": {},
   "outputs": [],
   "source": [
    "ctcf_binded_score = []\n",
    "ctcf_nobind_score = []\n",
    "ctcf_binded_distance = []\n",
    "ctcf_nobind_distance = []\n",
    "\n",
    "for i in range(len(loop_distances)):\n",
    "    dis = loop_distances[i]\n",
    "    if abs(dis) < 10000:\n",
    "        ctcf_binded_score.append(float(loop_peakscores[i]))\n",
    "        ctcf_binded_distance.append(float(dis))\n",
    "    else:\n",
    "        ctcf_nobind_score.append(float(loop_peakscores[i]))\n",
    "        ctcf_nobind_distance.append(float(dis))"
   ]
  },
  {
   "cell_type": "code",
   "execution_count": 31,
   "id": "1028649d",
   "metadata": {},
   "outputs": [],
   "source": [
    "score_dic = {'label': [], 'score': [],'distance':[]}\n",
    "\n",
    "for i in range(len(ctcf_binded_score)):\n",
    "    score_dic['label'].append('CTCF')\n",
    "    score_dic['score'].append(ctcf_binded_score[i])\n",
    "    score_dic['distance'].append(ctcf_binded_distance[i])\n",
    "    \n",
    "for i in range(len(ctcf_nobind_score)):\n",
    "    score_dic['label'].append('Non-CTCF')\n",
    "    score_dic['score'].append(ctcf_nobind_score[i])\n",
    "    score_dic['distance'].append(ctcf_nobind_distance[i])"
   ]
  },
  {
   "cell_type": "code",
   "execution_count": 32,
   "id": "e1c13c76",
   "metadata": {},
   "outputs": [],
   "source": [
    "df_score = pd.DataFrame.from_dict(score_dic)"
   ]
  },
  {
   "cell_type": "code",
   "execution_count": 33,
   "id": "0e723987",
   "metadata": {},
   "outputs": [
    {
     "data": {
      "text/html": [
       "<div>\n",
       "<style scoped>\n",
       "    .dataframe tbody tr th:only-of-type {\n",
       "        vertical-align: middle;\n",
       "    }\n",
       "\n",
       "    .dataframe tbody tr th {\n",
       "        vertical-align: top;\n",
       "    }\n",
       "\n",
       "    .dataframe thead th {\n",
       "        text-align: right;\n",
       "    }\n",
       "</style>\n",
       "<table border=\"1\" class=\"dataframe\">\n",
       "  <thead>\n",
       "    <tr style=\"text-align: right;\">\n",
       "      <th></th>\n",
       "      <th>label</th>\n",
       "      <th>score</th>\n",
       "      <th>distance</th>\n",
       "    </tr>\n",
       "  </thead>\n",
       "  <tbody>\n",
       "    <tr>\n",
       "      <th>0</th>\n",
       "      <td>CTCF</td>\n",
       "      <td>303.50935</td>\n",
       "      <td>-8984.5</td>\n",
       "    </tr>\n",
       "    <tr>\n",
       "      <th>1</th>\n",
       "      <td>CTCF</td>\n",
       "      <td>85.21099</td>\n",
       "      <td>-7159.0</td>\n",
       "    </tr>\n",
       "    <tr>\n",
       "      <th>2</th>\n",
       "      <td>CTCF</td>\n",
       "      <td>230.16426</td>\n",
       "      <td>2473.0</td>\n",
       "    </tr>\n",
       "    <tr>\n",
       "      <th>3</th>\n",
       "      <td>CTCF</td>\n",
       "      <td>230.16426</td>\n",
       "      <td>2473.0</td>\n",
       "    </tr>\n",
       "    <tr>\n",
       "      <th>4</th>\n",
       "      <td>CTCF</td>\n",
       "      <td>230.16426</td>\n",
       "      <td>2473.0</td>\n",
       "    </tr>\n",
       "    <tr>\n",
       "      <th>...</th>\n",
       "      <td>...</td>\n",
       "      <td>...</td>\n",
       "      <td>...</td>\n",
       "    </tr>\n",
       "    <tr>\n",
       "      <th>6695</th>\n",
       "      <td>Non-CTCF</td>\n",
       "      <td>263.54975</td>\n",
       "      <td>213494.0</td>\n",
       "    </tr>\n",
       "    <tr>\n",
       "      <th>6696</th>\n",
       "      <td>Non-CTCF</td>\n",
       "      <td>48.44420</td>\n",
       "      <td>55811.0</td>\n",
       "    </tr>\n",
       "    <tr>\n",
       "      <th>6697</th>\n",
       "      <td>Non-CTCF</td>\n",
       "      <td>48.44420</td>\n",
       "      <td>55811.0</td>\n",
       "    </tr>\n",
       "    <tr>\n",
       "      <th>6698</th>\n",
       "      <td>Non-CTCF</td>\n",
       "      <td>48.08017</td>\n",
       "      <td>-19934.0</td>\n",
       "    </tr>\n",
       "    <tr>\n",
       "      <th>6699</th>\n",
       "      <td>Non-CTCF</td>\n",
       "      <td>18.50714</td>\n",
       "      <td>248314.0</td>\n",
       "    </tr>\n",
       "  </tbody>\n",
       "</table>\n",
       "<p>6700 rows × 3 columns</p>\n",
       "</div>"
      ],
      "text/plain": [
       "         label      score  distance\n",
       "0         CTCF  303.50935   -8984.5\n",
       "1         CTCF   85.21099   -7159.0\n",
       "2         CTCF  230.16426    2473.0\n",
       "3         CTCF  230.16426    2473.0\n",
       "4         CTCF  230.16426    2473.0\n",
       "...        ...        ...       ...\n",
       "6695  Non-CTCF  263.54975  213494.0\n",
       "6696  Non-CTCF   48.44420   55811.0\n",
       "6697  Non-CTCF   48.44420   55811.0\n",
       "6698  Non-CTCF   48.08017  -19934.0\n",
       "6699  Non-CTCF   18.50714  248314.0\n",
       "\n",
       "[6700 rows x 3 columns]"
      ]
     },
     "execution_count": 33,
     "metadata": {},
     "output_type": "execute_result"
    }
   ],
   "source": [
    "df_score"
   ]
  },
  {
   "cell_type": "code",
   "execution_count": 34,
   "id": "f2ed1637",
   "metadata": {},
   "outputs": [
    {
     "data": {
      "text/plain": [
       "label\n",
       "CTCF        1297\n",
       "Non-CTCF    5403\n",
       "dtype: int64"
      ]
     },
     "execution_count": 34,
     "metadata": {},
     "output_type": "execute_result"
    }
   ],
   "source": [
    "df_score.groupby('label').size()"
   ]
  },
  {
   "cell_type": "code",
   "execution_count": 35,
   "id": "3e324ad3",
   "metadata": {},
   "outputs": [],
   "source": [
    "df_score['score']=df_score['score'].astype(float)\n",
    "df_score['distance']=df_score['distance'].astype(float)"
   ]
  },
  {
   "cell_type": "code",
   "execution_count": 36,
   "id": "b67c48c5",
   "metadata": {},
   "outputs": [
    {
     "data": {
      "text/plain": [
       "Ttest_indResult(statistic=2.5684817799311976, pvalue=0.010288787846942237)"
      ]
     },
     "execution_count": 36,
     "metadata": {},
     "output_type": "execute_result"
    }
   ],
   "source": [
    "from scipy import stats\n",
    "stats.ttest_ind(ctcf_binded_score, ctcf_nobind_score, equal_var=False)"
   ]
  },
  {
   "cell_type": "code",
   "execution_count": 37,
   "id": "82d753f6",
   "metadata": {},
   "outputs": [
    {
     "data": {
      "text/plain": [
       "145.18866749421744"
      ]
     },
     "execution_count": 37,
     "metadata": {},
     "output_type": "execute_result"
    }
   ],
   "source": [
    "np.mean(ctcf_binded_score)\n"
   ]
  },
  {
   "cell_type": "code",
   "execution_count": 38,
   "id": "1497e07c",
   "metadata": {},
   "outputs": [
    {
     "data": {
      "text/plain": [
       "89.44878000235737"
      ]
     },
     "execution_count": 38,
     "metadata": {},
     "output_type": "execute_result"
    }
   ],
   "source": [
    "np.std(ctcf_binded_score)"
   ]
  },
  {
   "cell_type": "code",
   "execution_count": 39,
   "id": "f8f7d421",
   "metadata": {},
   "outputs": [
    {
     "data": {
      "text/plain": [
       "138.1086695835647"
      ]
     },
     "execution_count": 39,
     "metadata": {},
     "output_type": "execute_result"
    }
   ],
   "source": [
    "np.mean(ctcf_nobind_score)"
   ]
  },
  {
   "cell_type": "code",
   "execution_count": 40,
   "id": "4c98118d",
   "metadata": {},
   "outputs": [
    {
     "data": {
      "text/plain": [
       "87.72411263316263"
      ]
     },
     "execution_count": 40,
     "metadata": {},
     "output_type": "execute_result"
    }
   ],
   "source": [
    "np.std(ctcf_nobind_score)"
   ]
  },
  {
   "cell_type": "code",
   "execution_count": 41,
   "id": "3937fd77",
   "metadata": {},
   "outputs": [
    {
     "data": {
      "image/png": "[encoded data removed]",
      "text/plain": [
       "<Figure size 432x288 with 1 Axes>"
      ]
     },
     "metadata": {
      "needs_background": "light"
     },
     "output_type": "display_data"
    }
   ],
   "source": [
    "\n",
    "sns.kdeplot(ctcf_binded_score, color='orange', bw_adjust=0.5, shade=False)\n",
    "sns.kdeplot(ctcf_nobind_score, color='blue', bw_adjust=0.5, shade=False)\n",
    "plt.axvline(np.mean(ctcf_binded_score), color='orange', linestyle='dashed', linewidth=2)\n",
    "plt.axvline(np.mean(ctcf_nobind_score), color='blue', linestyle='dashed', linewidth=2)\n",
    "plt.xlim(0, 300)\n",
    "\n",
    "# Annotations\n",
    "plt.text(np.mean(ctcf_binded_score)+20, 0.0002, f'Mean: {np.mean(ctcf_binded_score):.2f}', color='orange',size=15)\n",
    "plt.text(np.mean(ctcf_nobind_score)-100, 0.0002, f'Mean: {np.mean(ctcf_nobind_score):.2f}', color='blue',size=15)\n",
    "\n",
    "plt.yticks(fontsize=15)\n",
    "plt.xticks(fontsize=15)\n",
    "plt.legend(labels = ['CTCF','Non-CTCF'],fontsize=15, frameon=False)\n",
    "sns.despine()\n",
    "plt.show()"
   ]
  },
  {
   "cell_type": "code",
   "execution_count": 42,
   "id": "1a9c4a08",
   "metadata": {},
   "outputs": [
    {
     "data": {
      "image/png": "[encoded data removed]",
      "text/plain": [
       "<Figure size 432x288 with 1 Axes>"
      ]
     },
     "metadata": {
      "needs_background": "light"
     },
     "output_type": "display_data"
    }
   ],
   "source": [
    "sns.kdeplot(ctcf_binded_distance, color='orange', shade=False)\n",
    "sns.kdeplot(ctcf_nobind_distance, color='blue',  shade=False)\n",
    "\n",
    "\n",
    "plt.axvline(np.mean(ctcf_binded_distance), color='orange', linestyle='dashed', linewidth=2)\n",
    "plt.axvline(np.mean(ctcf_nobind_distance), color='blue', linestyle='dashed', linewidth=2)\n",
    "\n",
    "# Annotations\n",
    "plt.text(np.mean(ctcf_binded_distance)-700000, 0.00002, f'Mean: {np.mean(ctcf_binded_distance):.2f}', color='orange',size=15)\n",
    "plt.text(np.mean(ctcf_nobind_distance)+300000, 0.00002, f'Mean: {np.mean(ctcf_nobind_distance):.2f}', color='blue',size=15)\n",
    "\n",
    "plt.yticks(fontsize=15)\n",
    "plt.xticks(np.arange(-700000, 1200000, 600000),fontsize=15)\n",
    "legend=plt.legend(labels = ['CTCF','Non-CTCF'],fontsize=15, frameon=False)\n",
    "sns.despine()\n",
    "plt.show()"
   ]
  },
  {
   "cell_type": "code",
   "execution_count": null,
   "id": "5397153d",
   "metadata": {},
   "outputs": [],
   "source": []
  },
  {
   "cell_type": "code",
   "execution_count": null,
   "id": "9f408e08",
   "metadata": {},
   "outputs": [],
   "source": []
  }
 ],
 "metadata": {
  "kernelspec": {
   "display_name": "Python 3",
   "language": "python",
   "name": "python3"
  },
  "language_info": {
   "codemirror_mode": {
    "name": "ipython",
    "version": 3
   },
   "file_extension": ".py",
   "mimetype": "text/x-python",
   "name": "python",
   "nbconvert_exporter": "python",
   "pygments_lexer": "ipython3",
   "version": "3.6.13"
  }
 },
 "nbformat": 4,
 "nbformat_minor": 5
}
