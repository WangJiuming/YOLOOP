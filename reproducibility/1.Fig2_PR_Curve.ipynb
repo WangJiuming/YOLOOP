{
 "cells": [
  {
   "cell_type": "code",
   "execution_count": 1,
   "id": "b2feb077",
   "metadata": {},
   "outputs": [],
   "source": [
    "import random\n",
    "from tqdm import tqdm\n",
    "import numpy as np\n",
    "import matplotlib.pyplot as plt\n",
    "import os\n",
    "from tqdm import tqdm\n",
    "from scipy.spatial.distance import cdist\n",
    "from scipy.optimize import linear_sum_assignment\n",
    "import copy\n",
    "from collections import defaultdict\n",
    "from sklearn.metrics import precision_recall_curve, auc"
   ]
  },
  {
   "cell_type": "code",
   "execution_count": 2,
   "id": "c3799d9d",
   "metadata": {},
   "outputs": [],
   "source": [
    "def compute_true_false(preds, targets, dist_thresh):\n",
    "    \"\"\"\n",
    "    compute the number of true and false predictions with the Hungarian algorithm\n",
    "\n",
    "    Args:\n",
    "        preds (array): coordinates of n predicted loops, array of shape (n, 2)\n",
    "        targets (array): coordinates of m ground truth loop annotations, array of shape (m, 2)\n",
    "        dist_thresh (float): threshold of the distance between two coordinates for them to be matched\n",
    "    \n",
    "    Returns:\n",
    "        int, int, int, float, float, float: true positive, false positive, false negative, precision, recall, F1-score\n",
    "    \"\"\"\n",
    "\n",
    "    if len(preds) == 0:\n",
    "        # return all zeros if no prediction was made\n",
    "        return 0, 0, 0, 0, 0, 0\n",
    "\n",
    "    dist_matrix = cdist(preds, targets, 'euclidean')  # shape: (pred size, target size) \n",
    "\n",
    "    candidate_matrix = np.where(dist_matrix <= dist_thresh, 1, 0)\n",
    "    # Candidate(i, j) = 1 means prediction i is close enough to targete j\n",
    "    \n",
    "    # the problem of uniquely assigning targets with predictions can be solved by the Hungarian algorithm\n",
    "    # first, reverse of the candidate matrix to a cost matrix, Cost(i, j) = 0 iff Candidate(i, j) = 1, inf otherwise\n",
    "    # we didn't use negative costs to fit the standard setting of the assignment problem\n",
    "    # math.inf will cause problems with linear_sum_assignment(), using a large number instead\n",
    "    cost_matrix = np.where(candidate_matrix == 1, 0, 10**10)\n",
    "\n",
    "    # pad the cost matrix into a square matrix\n",
    "    max_dim = max(cost_matrix.shape)\n",
    "    pad_rows = max_dim - cost_matrix.shape[0]\n",
    "    pad_cols = max_dim - cost_matrix.shape[1]\n",
    "    cost_matrix = np.pad(cost_matrix, ((0, pad_rows), (0, pad_cols)), 'constant', constant_values=10**10)\n",
    "    \n",
    "    # print('[debug] compute_true_false(): cost matrix shape (afer padding):', cost_matrix.shape)\n",
    "\n",
    "    # fit the Hungarian algorithm to find the optimal solution\n",
    "    row_ind, col_ind = linear_sum_assignment(cost_matrix)\n",
    "\n",
    "    # the solution is represented as index pairs, no repetitive rows or columns are used\n",
    "    # but it might choose an index pair from the padding region or choose an entry with large cost (sub-optimal)\n",
    "    # as a result, we need to manually remove those assignments\n",
    "\n",
    "    index_pairs = list(zip(row_ind, col_ind))  # list of two-element tuples\n",
    "    # print(f'[debug] compute_true_false(): before post-processing, {len(index_pairs)} assignments')\n",
    "\n",
    "    final_pairs = copy.deepcopy(index_pairs)\n",
    "\n",
    "    for pair in index_pairs:\n",
    "        # to be a valid assignment, the cost must be 0 (i.e., the entry must be 1 in the candidate matrix)\n",
    "        # and the indcies must not be in the padding region\n",
    "        if cost_matrix[pair] != 0 or pair[0] >= candidate_matrix.shape[0] or pair[1] >= candidate_matrix.shape[1]:\n",
    "            final_pairs.remove(pair)\n",
    "\n",
    "    # print(f'[debug] compute_true_false(): after post-processing, {len(final_pairs)} assignments')\n",
    "\n",
    "    # the true positive is then the number of remaining assignments\n",
    "    tp = len(final_pairs)\n",
    "\n",
    "    # total predictions - true positives (unassigned predictions)\n",
    "    fp = preds.shape[0] - tp\n",
    "\n",
    "    # total targets - true positives (unassigned targets)\n",
    "    fn = targets.shape[0] - tp\n",
    "\n",
    "    try:\n",
    "        precision = tp / preds.shape[0]\n",
    "        recall = tp / targets.shape[0]\n",
    "        f1score = 2 * precision * recall / (precision + recall)\n",
    "    except ZeroDivisionError:\n",
    "        # in case TP=0, then all 3 metrics should be zero\n",
    "        precision, recall, f1score = 0, 0, 0\n",
    "\n",
    "    return tp, fp, fn, precision, recall, f1score\n",
    "\n"
   ]
  },
  {
   "cell_type": "code",
   "execution_count": 3,
   "id": "b9aaa777",
   "metadata": {},
   "outputs": [],
   "source": [
    "def read_loops(loop_path):\n",
    "    loops = []\n",
    "    score_id = 6\n",
    "    if 'chromosight' in loop_path:\n",
    "        score_id = 10\n",
    "    elif 'train' in loop_path:\n",
    "        score_id = 0\n",
    "    elif 'hiccups' in loop_path:\n",
    "        score_id = 16\n",
    "    \n",
    "    with open(loop_path, 'r') as loop_file:\n",
    "        for line in loop_file:\n",
    "            if line.strip('\\n').split('\\t')[0] == 'chrom1':\n",
    "                continue\n",
    "            if '#' in line.strip('\\n').split('\\t')[0] :\n",
    "                continue\n",
    "            \n",
    "            line_list = line.strip('\\n').split('\\t')\n",
    "\n",
    "            loop_info = line_list[:6]\n",
    "            \n",
    "            if score_id !=0:\n",
    "                if 'hicexplorer' in loop_path or 'hiccups' in loop_path:\n",
    "                    loop_score = 1- float(line_list[score_id])\n",
    "                    loop_info.append(loop_score)\n",
    "                    loops.append(loop_info)\n",
    "                else:\n",
    "                    loop_score = float(line_list[score_id])\n",
    "                    loop_info.append(loop_score)\n",
    "                    loops.append(loop_info)\n",
    "            else:\n",
    "                loops.append(loop_info)          \n",
    "    return loops"
   ]
  },
  {
   "cell_type": "code",
   "execution_count": 4,
   "id": "a8042c05",
   "metadata": {},
   "outputs": [],
   "source": [
    "threshold_list = np.arange(0, 1.1, 0.1)"
   ]
  },
  {
   "cell_type": "code",
   "execution_count": 5,
   "id": "aee3329b",
   "metadata": {},
   "outputs": [],
   "source": [
    "cell_type = 'gm12878'"
   ]
  },
  {
   "cell_type": "code",
   "execution_count": null,
   "id": "9e0965ec",
   "metadata": {},
   "outputs": [
    {
     "name": "stdout",
     "output_type": "stream",
     "text": [
      "55086\n",
      "method: HICCUPS\n",
      "Threshold : 0.0\n"
     ]
    },
    {
     "name": "stderr",
     "output_type": "stream",
     "text": [
      "100%|██████████| 8469/8469 [00:00<00:00, 1563793.11it/s]\n",
      "100%|██████████| 8469/8469 [00:00<00:00, 1593466.74it/s]\n",
      "100%|██████████| 8469/8469 [00:00<00:00, 1682927.97it/s]\n"
     ]
    },
    {
     "name": "stdout",
     "output_type": "stream",
     "text": [
      "Threshold : 0.1\n"
     ]
    },
    {
     "name": "stderr",
     "output_type": "stream",
     "text": [
      "100%|██████████| 8469/8469 [00:00<00:00, 1381731.78it/s]\n",
      "100%|██████████| 8469/8469 [00:00<00:00, 1646880.27it/s]\n",
      "100%|██████████| 8469/8469 [00:00<00:00, 1482597.80it/s]\n"
     ]
    },
    {
     "name": "stdout",
     "output_type": "stream",
     "text": [
      "Threshold : 0.2\n"
     ]
    },
    {
     "name": "stderr",
     "output_type": "stream",
     "text": [
      "100%|██████████| 8469/8469 [00:00<00:00, 1474719.17it/s]\n",
      "100%|██████████| 8469/8469 [00:00<00:00, 1827052.80it/s]\n",
      "100%|██████████| 8469/8469 [00:00<00:00, 1663461.67it/s]\n"
     ]
    },
    {
     "name": "stdout",
     "output_type": "stream",
     "text": [
      "Threshold : 0.30000000000000004\n"
     ]
    },
    {
     "name": "stderr",
     "output_type": "stream",
     "text": [
      "100%|██████████| 8469/8469 [00:00<00:00, 1506172.01it/s]\n",
      "100%|██████████| 8469/8469 [00:00<00:00, 1682370.02it/s]\n",
      "100%|██████████| 8469/8469 [00:00<00:00, 1648714.81it/s]\n"
     ]
    },
    {
     "name": "stdout",
     "output_type": "stream",
     "text": [
      "Threshold : 0.4\n"
     ]
    },
    {
     "name": "stderr",
     "output_type": "stream",
     "text": [
      "100%|██████████| 8469/8469 [00:00<00:00, 1482412.18it/s]\n",
      "100%|██████████| 8469/8469 [00:00<00:00, 1798742.18it/s]\n",
      "100%|██████████| 8469/8469 [00:00<00:00, 1654859.57it/s]\n"
     ]
    },
    {
     "name": "stdout",
     "output_type": "stream",
     "text": [
      "Threshold : 0.5\n"
     ]
    },
    {
     "name": "stderr",
     "output_type": "stream",
     "text": [
      "100%|██████████| 8469/8469 [00:00<00:00, 1506938.77it/s]\n",
      "100%|██████████| 8469/8469 [00:00<00:00, 1772090.82it/s]\n",
      "100%|██████████| 8469/8469 [00:00<00:00, 1466802.68it/s]\n"
     ]
    },
    {
     "name": "stdout",
     "output_type": "stream",
     "text": [
      "Threshold : 0.6000000000000001\n"
     ]
    },
    {
     "name": "stderr",
     "output_type": "stream",
     "text": [
      "100%|██████████| 8469/8469 [00:00<00:00, 1494449.10it/s]\n",
      "100%|██████████| 8469/8469 [00:00<00:00, 1778478.98it/s]\n",
      "100%|██████████| 8469/8469 [00:00<00:00, 1638977.56it/s]\n"
     ]
    },
    {
     "name": "stdout",
     "output_type": "stream",
     "text": [
      "Threshold : 0.7000000000000001\n"
     ]
    },
    {
     "name": "stderr",
     "output_type": "stream",
     "text": [
      "100%|██████████| 8469/8469 [00:00<00:00, 1484146.43it/s]\n",
      "100%|██████████| 8469/8469 [00:00<00:00, 1648102.84it/s]\n",
      "100%|██████████| 8469/8469 [00:00<00:00, 1484580.62it/s]\n"
     ]
    },
    {
     "name": "stdout",
     "output_type": "stream",
     "text": [
      "Threshold : 0.8\n"
     ]
    },
    {
     "name": "stderr",
     "output_type": "stream",
     "text": [
      "100%|██████████| 8469/8469 [00:00<00:00, 1504768.30it/s]\n",
      "100%|██████████| 8469/8469 [00:00<00:00, 1743132.82it/s]\n",
      "100%|██████████| 8469/8469 [00:00<00:00, 1680857.45it/s]\n"
     ]
    },
    {
     "name": "stdout",
     "output_type": "stream",
     "text": [
      "Threshold : 0.9\n"
     ]
    },
    {
     "name": "stderr",
     "output_type": "stream",
     "text": [
      "100%|██████████| 8469/8469 [00:00<00:00, 1480928.90it/s]\n",
      "100%|██████████| 8469/8469 [00:00<00:00, 1541667.49it/s]\n",
      "100%|██████████| 8469/8469 [00:00<00:00, 1607528.65it/s]\n"
     ]
    },
    {
     "name": "stdout",
     "output_type": "stream",
     "text": [
      "Threshold : 1.0\n"
     ]
    },
    {
     "name": "stderr",
     "output_type": "stream",
     "text": [
      "100%|██████████| 4495/4495 [00:00<00:00, 1412345.23it/s]\n",
      "100%|██████████| 4495/4495 [00:00<00:00, 1548660.79it/s]\n",
      "100%|██████████| 4495/4495 [00:00<00:00, 1475457.54it/s]\n"
     ]
    },
    {
     "name": "stdout",
     "output_type": "stream",
     "text": [
      "method: Chromosight\n",
      "Threshold : 0.0\n"
     ]
    },
    {
     "name": "stderr",
     "output_type": "stream",
     "text": [
      "100%|██████████| 40732/40732 [00:00<00:00, 2058317.26it/s]\n",
      "100%|██████████| 40732/40732 [00:00<00:00, 2157863.77it/s]\n",
      "100%|██████████| 40732/40732 [00:00<00:00, 2197414.57it/s]\n"
     ]
    },
    {
     "name": "stdout",
     "output_type": "stream",
     "text": [
      "Threshold : 0.1\n"
     ]
    },
    {
     "name": "stderr",
     "output_type": "stream",
     "text": [
      "100%|██████████| 40732/40732 [00:00<00:00, 1962848.30it/s]\n",
      "100%|██████████| 40732/40732 [00:00<00:00, 2182368.98it/s]\n",
      "100%|██████████| 40732/40732 [00:00<00:00, 2208321.69it/s]\n"
     ]
    },
    {
     "name": "stdout",
     "output_type": "stream",
     "text": [
      "Threshold : 0.2\n"
     ]
    },
    {
     "name": "stderr",
     "output_type": "stream",
     "text": [
      "100%|██████████| 40732/40732 [00:00<00:00, 2004416.02it/s]\n",
      "100%|██████████| 40732/40732 [00:00<00:00, 2148852.77it/s]\n",
      "100%|██████████| 40732/40732 [00:00<00:00, 2184936.76it/s]\n"
     ]
    },
    {
     "name": "stdout",
     "output_type": "stream",
     "text": [
      "Threshold : 0.30000000000000004\n"
     ]
    },
    {
     "name": "stderr",
     "output_type": "stream",
     "text": [
      "100%|██████████| 40732/40732 [00:00<00:00, 2067909.25it/s]\n",
      "100%|██████████| 40732/40732 [00:00<00:00, 2110989.63it/s]\n",
      "100%|██████████| 40732/40732 [00:00<00:00, 2143998.68it/s]\n"
     ]
    },
    {
     "name": "stdout",
     "output_type": "stream",
     "text": [
      "Threshold : 0.4\n"
     ]
    },
    {
     "name": "stderr",
     "output_type": "stream",
     "text": [
      "100%|██████████| 23669/23669 [00:00<00:00, 1901528.14it/s]\n",
      "100%|██████████| 23669/23669 [00:00<00:00, 2104844.30it/s]\n",
      "100%|██████████| 23669/23669 [00:00<00:00, 2139685.35it/s]\n"
     ]
    },
    {
     "name": "stdout",
     "output_type": "stream",
     "text": [
      "Threshold : 0.5\n"
     ]
    },
    {
     "name": "stderr",
     "output_type": "stream",
     "text": [
      "100%|██████████| 14893/14893 [00:00<00:00, 1652183.92it/s]\n",
      "100%|██████████| 14893/14893 [00:00<00:00, 1996668.35it/s]\n",
      "100%|██████████| 14893/14893 [00:00<00:00, 1842213.33it/s]\n"
     ]
    },
    {
     "name": "stdout",
     "output_type": "stream",
     "text": [
      "Threshold : 0.6000000000000001\n"
     ]
    },
    {
     "name": "stderr",
     "output_type": "stream",
     "text": [
      "100%|██████████| 9445/9445 [00:00<00:00, 1470115.46it/s]\n",
      "100%|██████████| 9445/9445 [00:00<00:00, 1557997.45it/s]\n",
      "100%|██████████| 9445/9445 [00:00<00:00, 1543910.57it/s]\n"
     ]
    },
    {
     "name": "stdout",
     "output_type": "stream",
     "text": [
      "Threshold : 0.7000000000000001\n"
     ]
    },
    {
     "name": "stderr",
     "output_type": "stream",
     "text": [
      "100%|██████████| 5355/5355 [00:00<00:00, 1368457.80it/s]\n",
      "100%|██████████| 5355/5355 [00:00<00:00, 1634560.65it/s]\n",
      "100%|██████████| 5355/5355 [00:00<00:00, 1435083.89it/s]\n"
     ]
    },
    {
     "name": "stdout",
     "output_type": "stream",
     "text": [
      "Threshold : 0.8\n"
     ]
    },
    {
     "name": "stderr",
     "output_type": "stream",
     "text": [
      "100%|██████████| 2025/2025 [00:00<00:00, 1206286.83it/s]\n",
      "100%|██████████| 2025/2025 [00:00<00:00, 1494802.11it/s]\n",
      "100%|██████████| 2025/2025 [00:00<00:00, 1217177.64it/s]\n"
     ]
    },
    {
     "name": "stdout",
     "output_type": "stream",
     "text": [
      "Threshold : 0.9\n"
     ]
    },
    {
     "name": "stderr",
     "output_type": "stream",
     "text": [
      "100%|██████████| 124/124 [00:00<00:00, 587013.20it/s]\n",
      "100%|██████████| 124/124 [00:00<00:00, 895169.87it/s]\n",
      "100%|██████████| 124/124 [00:00<00:00, 824237.24it/s]\n"
     ]
    },
    {
     "name": "stdout",
     "output_type": "stream",
     "text": [
      "Threshold : 1.0\n"
     ]
    },
    {
     "name": "stderr",
     "output_type": "stream",
     "text": [
      "0it [00:00, ?it/s]\n",
      "0it [00:00, ?it/s]\n",
      "0it [00:00, ?it/s]\n"
     ]
    },
    {
     "name": "stdout",
     "output_type": "stream",
     "text": [
      "method: HiCExplorer\n",
      "Threshold : 0.0\n"
     ]
    },
    {
     "name": "stderr",
     "output_type": "stream",
     "text": [
      "100%|██████████| 9653/9653 [00:00<00:00, 1537932.71it/s]\n",
      "100%|██████████| 9653/9653 [00:00<00:00, 1522033.63it/s]\n",
      "100%|██████████| 9653/9653 [00:00<00:00, 1569835.08it/s]\n"
     ]
    },
    {
     "name": "stdout",
     "output_type": "stream",
     "text": [
      "Threshold : 0.1\n"
     ]
    },
    {
     "name": "stderr",
     "output_type": "stream",
     "text": [
      "100%|██████████| 9653/9653 [00:00<00:00, 1468805.24it/s]\n",
      "100%|██████████| 9653/9653 [00:00<00:00, 1527776.93it/s]\n",
      "100%|██████████| 9653/9653 [00:00<00:00, 1499319.23it/s]\n"
     ]
    },
    {
     "name": "stdout",
     "output_type": "stream",
     "text": [
      "Threshold : 0.2\n"
     ]
    },
    {
     "name": "stderr",
     "output_type": "stream",
     "text": [
      "100%|██████████| 9653/9653 [00:00<00:00, 1443563.18it/s]\n",
      "100%|██████████| 9653/9653 [00:00<00:00, 1379757.92it/s]\n",
      "100%|██████████| 9653/9653 [00:00<00:00, 1491366.45it/s]\n"
     ]
    },
    {
     "name": "stdout",
     "output_type": "stream",
     "text": [
      "Threshold : 0.30000000000000004\n"
     ]
    },
    {
     "name": "stderr",
     "output_type": "stream",
     "text": [
      "100%|██████████| 9653/9653 [00:00<00:00, 1498209.61it/s]\n",
      "100%|██████████| 9653/9653 [00:00<00:00, 1549883.88it/s]\n",
      "100%|██████████| 9653/9653 [00:00<00:00, 1546982.14it/s]\n"
     ]
    },
    {
     "name": "stdout",
     "output_type": "stream",
     "text": [
      "Threshold : 0.4\n"
     ]
    },
    {
     "name": "stderr",
     "output_type": "stream",
     "text": [
      "100%|██████████| 9653/9653 [00:00<00:00, 1498043.31it/s]\n",
      "100%|██████████| 9653/9653 [00:00<00:00, 1832101.75it/s]\n",
      "100%|██████████| 9653/9653 [00:00<00:00, 1580806.52it/s]\n"
     ]
    },
    {
     "name": "stdout",
     "output_type": "stream",
     "text": [
      "Threshold : 0.5\n"
     ]
    },
    {
     "name": "stderr",
     "output_type": "stream",
     "text": [
      "100%|██████████| 9653/9653 [00:00<00:00, 1513951.93it/s]\n",
      "100%|██████████| 9653/9653 [00:00<00:00, 1545741.86it/s]\n",
      "100%|██████████| 9653/9653 [00:00<00:00, 1501989.04it/s]\n"
     ]
    },
    {
     "name": "stdout",
     "output_type": "stream",
     "text": [
      "Threshold : 0.6000000000000001\n"
     ]
    },
    {
     "name": "stderr",
     "output_type": "stream",
     "text": [
      "100%|██████████| 9653/9653 [00:00<00:00, 1454192.10it/s]\n",
      "100%|██████████| 9653/9653 [00:00<00:00, 1557575.46it/s]\n",
      "100%|██████████| 9653/9653 [00:00<00:00, 1588185.64it/s]\n"
     ]
    },
    {
     "name": "stdout",
     "output_type": "stream",
     "text": [
      "Threshold : 0.7000000000000001\n"
     ]
    },
    {
     "name": "stderr",
     "output_type": "stream",
     "text": [
      "100%|██████████| 9653/9653 [00:00<00:00, 1499319.23it/s]\n",
      "100%|██████████| 9653/9653 [00:00<00:00, 1553034.77it/s]\n",
      "100%|██████████| 9653/9653 [00:00<00:00, 1560637.42it/s]\n"
     ]
    },
    {
     "name": "stdout",
     "output_type": "stream",
     "text": [
      "Threshold : 0.8\n"
     ]
    },
    {
     "name": "stderr",
     "output_type": "stream",
     "text": [
      "100%|██████████| 9653/9653 [00:00<00:00, 1513612.34it/s]\n",
      "100%|██████████| 9653/9653 [00:00<00:00, 1546568.49it/s]\n",
      "100%|██████████| 9653/9653 [00:00<00:00, 1546155.06it/s]\n"
     ]
    },
    {
     "name": "stdout",
     "output_type": "stream",
     "text": [
      "Threshold : 0.9\n"
     ]
    },
    {
     "name": "stderr",
     "output_type": "stream",
     "text": [
      "100%|██████████| 9653/9653 [00:00<00:00, 1509774.27it/s]\n",
      "100%|██████████| 9653/9653 [00:00<00:00, 1583465.00it/s]\n",
      "100%|██████████| 9653/9653 [00:00<00:00, 1572762.17it/s]\n"
     ]
    },
    {
     "name": "stdout",
     "output_type": "stream",
     "text": [
      "Threshold : 1.0\n"
     ]
    },
    {
     "name": "stderr",
     "output_type": "stream",
     "text": [
      "100%|██████████| 3386/3386 [00:00<00:00, 1255917.35it/s]\n",
      "100%|██████████| 3386/3386 [00:00<00:00, 1355273.72it/s]\n",
      "100%|██████████| 3386/3386 [00:00<00:00, 1369387.07it/s]\n"
     ]
    },
    {
     "name": "stdout",
     "output_type": "stream",
     "text": [
      "method: YOLOOP\n",
      "Threshold : 0.0\n"
     ]
    },
    {
     "name": "stderr",
     "output_type": "stream",
     "text": [
      "100%|██████████| 106417/106417 [00:00<00:00, 1983668.50it/s]\n",
      "100%|██████████| 106417/106417 [00:00<00:00, 2061069.67it/s]\n",
      "100%|██████████| 106417/106417 [00:00<00:00, 2175405.01it/s]\n"
     ]
    },
    {
     "name": "stdout",
     "output_type": "stream",
     "text": [
      "Threshold : 0.1\n"
     ]
    },
    {
     "name": "stderr",
     "output_type": "stream",
     "text": [
      "100%|██████████| 106417/106417 [00:00<00:00, 793920.44it/s]\n",
      "100%|██████████| 106417/106417 [00:00<00:00, 1863833.47it/s]\n",
      "100%|██████████| 106417/106417 [00:00<00:00, 2238037.51it/s]\n"
     ]
    },
    {
     "name": "stdout",
     "output_type": "stream",
     "text": [
      "Threshold : 0.2\n"
     ]
    },
    {
     "name": "stderr",
     "output_type": "stream",
     "text": [
      "100%|██████████| 106417/106417 [00:00<00:00, 1973258.92it/s]\n",
      "100%|██████████| 106417/106417 [00:00<00:00, 2126537.09it/s]\n",
      "100%|██████████| 106417/106417 [00:00<00:00, 2212828.69it/s]\n"
     ]
    },
    {
     "name": "stdout",
     "output_type": "stream",
     "text": [
      "Threshold : 0.30000000000000004\n"
     ]
    },
    {
     "name": "stderr",
     "output_type": "stream",
     "text": [
      "100%|██████████| 100740/100740 [00:00<00:00, 1979741.20it/s]\n",
      "100%|██████████| 100740/100740 [00:00<00:00, 2147547.09it/s]\n",
      "100%|██████████| 100740/100740 [00:00<00:00, 2222589.07it/s]\n"
     ]
    },
    {
     "name": "stdout",
     "output_type": "stream",
     "text": [
      "Threshold : 0.4\n"
     ]
    },
    {
     "name": "stderr",
     "output_type": "stream",
     "text": [
      "100%|██████████| 90960/90960 [00:00<00:00, 1977698.65it/s]\n",
      "100%|██████████| 90960/90960 [00:00<00:00, 2089067.66it/s]\n",
      "100%|██████████| 90960/90960 [00:00<00:00, 2231545.19it/s]\n"
     ]
    },
    {
     "name": "stdout",
     "output_type": "stream",
     "text": [
      "Threshold : 0.5\n"
     ]
    },
    {
     "name": "stderr",
     "output_type": "stream",
     "text": [
      "100%|██████████| 82655/82655 [00:00<00:00, 1944789.93it/s]\n",
      "100%|██████████| 82655/82655 [00:00<00:00, 2116588.09it/s]\n",
      "100%|██████████| 82655/82655 [00:00<00:00, 2195345.61it/s]\n"
     ]
    },
    {
     "name": "stdout",
     "output_type": "stream",
     "text": [
      "Threshold : 0.6000000000000001\n"
     ]
    },
    {
     "name": "stderr",
     "output_type": "stream",
     "text": [
      "100%|██████████| 74860/74860 [00:00<00:00, 1866351.22it/s]\n",
      "100%|██████████| 74860/74860 [00:00<00:00, 2136479.66it/s]\n",
      "100%|██████████| 74860/74860 [00:00<00:00, 2206178.97it/s]\n"
     ]
    },
    {
     "name": "stdout",
     "output_type": "stream",
     "text": [
      "Threshold : 0.7000000000000001\n"
     ]
    },
    {
     "name": "stderr",
     "output_type": "stream",
     "text": [
      "100%|██████████| 66892/66892 [00:00<00:00, 2005614.29it/s]\n",
      "100%|██████████| 66892/66892 [00:00<00:00, 2120916.08it/s]\n",
      "100%|██████████| 66892/66892 [00:00<00:00, 2095663.87it/s]\n"
     ]
    },
    {
     "name": "stdout",
     "output_type": "stream",
     "text": [
      "Threshold : 0.8\n"
     ]
    },
    {
     "name": "stderr",
     "output_type": "stream",
     "text": [
      "100%|██████████| 58494/58494 [00:00<00:00, 1856932.37it/s]\n",
      "100%|██████████| 58494/58494 [00:00<00:00, 2124721.73it/s]\n",
      "100%|██████████| 58494/58494 [00:00<00:00, 2231615.88it/s]\n"
     ]
    },
    {
     "name": "stdout",
     "output_type": "stream",
     "text": [
      "Threshold : 0.9\n"
     ]
    },
    {
     "name": "stderr",
     "output_type": "stream",
     "text": [
      "100%|██████████| 47020/47020 [00:00<00:00, 1894742.56it/s]\n",
      "100%|██████████| 47020/47020 [00:00<00:00, 2137844.71it/s]\n",
      "100%|██████████| 47020/47020 [00:00<00:00, 2211861.13it/s]\n"
     ]
    },
    {
     "name": "stdout",
     "output_type": "stream",
     "text": [
      "Threshold : 1.0\n"
     ]
    },
    {
     "name": "stderr",
     "output_type": "stream",
     "text": [
      "100%|██████████| 1255/1255 [00:00<00:00, 2245670.44it/s]\n",
      "100%|██████████| 1255/1255 [00:00<00:00, 2037882.90it/s]\n",
      "100%|██████████| 1255/1255 [00:00<00:00, 2277737.57it/s]\n"
     ]
    },
    {
     "name": "stdout",
     "output_type": "stream",
     "text": [
      "method: Peakachu\n",
      "Threshold : 0.0\n"
     ]
    },
    {
     "name": "stderr",
     "output_type": "stream",
     "text": [
      "100%|██████████| 50896/50896 [00:00<00:00, 787041.85it/s]\n",
      "100%|██████████| 50896/50896 [00:00<00:00, 1133187.69it/s]\n",
      "100%|██████████| 50896/50896 [00:00<00:00, 414339.08it/s]\n"
     ]
    },
    {
     "name": "stdout",
     "output_type": "stream",
     "text": [
      "Threshold : 0.1\n"
     ]
    },
    {
     "name": "stderr",
     "output_type": "stream",
     "text": [
      "100%|██████████| 50896/50896 [00:00<00:00, 846655.97it/s]\n",
      "100%|██████████| 50896/50896 [00:00<00:00, 1091153.63it/s]\n",
      "100%|██████████| 50896/50896 [00:00<00:00, 702764.98it/s]\n"
     ]
    },
    {
     "name": "stdout",
     "output_type": "stream",
     "text": [
      "Threshold : 0.2\n"
     ]
    },
    {
     "name": "stderr",
     "output_type": "stream",
     "text": [
      "100%|██████████| 50896/50896 [00:00<00:00, 822636.30it/s]\n",
      "100%|██████████| 50896/50896 [00:00<00:00, 833531.67it/s]\n",
      "100%|██████████| 50896/50896 [00:00<00:00, 1282160.40it/s]\n"
     ]
    },
    {
     "name": "stdout",
     "output_type": "stream",
     "text": [
      "Threshold : 0.30000000000000004\n"
     ]
    },
    {
     "name": "stderr",
     "output_type": "stream",
     "text": [
      "100%|██████████| 50896/50896 [00:00<00:00, 809632.21it/s]\n",
      "100%|██████████| 50896/50896 [00:00<00:00, 1201678.04it/s]\n",
      "100%|██████████| 50896/50896 [00:00<00:00, 1251125.55it/s]\n"
     ]
    },
    {
     "name": "stdout",
     "output_type": "stream",
     "text": [
      "Threshold : 0.4\n"
     ]
    },
    {
     "name": "stderr",
     "output_type": "stream",
     "text": [
      "100%|██████████| 50896/50896 [00:00<00:00, 370778.80it/s]\n",
      "100%|██████████| 50896/50896 [00:00<00:00, 1279539.77it/s]\n",
      "100%|██████████| 50896/50896 [00:00<00:00, 1499120.75it/s]\n"
     ]
    },
    {
     "name": "stdout",
     "output_type": "stream",
     "text": [
      "Threshold : 0.5\n"
     ]
    },
    {
     "name": "stderr",
     "output_type": "stream",
     "text": [
      "100%|██████████| 50896/50896 [00:00<00:00, 411406.14it/s]\n"
     ]
    }
   ],
   "source": [
    "gt_file = '/Dataset/HiC/hic/loop_train/ctcf_{}.bedpe'.format(cell_type)\n",
    "\n",
    "\n",
    "\n",
    "gt_loops = read_loops(gt_file)\n",
    "print(len(gt_loops))\n",
    "\n",
    "threshold_list = np.arange(0, 1.1, 0.1)\n",
    "\n",
    "PR_Dic = {\n",
    "    'Chromosight':[],\n",
    "    'HiCExplorer':[],\n",
    "    'YOLOOP':[],\n",
    "    'Peakachu':[],\n",
    "    'HICCUPS':[]\n",
    "}\n",
    "\n",
    "\n",
    "\n",
    "\n",
    "for benchmark in ['HICCUPS','Chromosight','HiCExplorer','YOLOOP','Peakachu']:\n",
    "\n",
    "    print(\"method: {}\".format(benchmark))\n",
    "    if benchmark == 'YOLOOP':\n",
    "        pred_file = 'yoloop_prediction/10kb/yoloop_pred_{}.bedpe'.format(cell_type)\n",
    "        pred_loops = read_loops(pred_file)\n",
    "    elif benchmark == 'HICCUPS':\n",
    "        pred_file = 'benchmarks/hiccups/{}-hic_10kb/merged_loops.bedpe'.format(cell_type)\n",
    "        pred_loops = read_loops(pred_file)\n",
    "    elif benchmark == 'Chromosight':\n",
    "        pred_file = 'benchmarks/chromosight/{}-hic_10kb/{}-hic_10kb.tsv'.format(cell_type,cell_type)\n",
    "        pred_loops = read_loops(pred_file)\n",
    "    elif benchmark == 'HiCExplorer':\n",
    "        pred_file = 'benchmarks/hicexplorer/{}-hic_10kb/{}-hic_10kb.bedgraph'.format(cell_type,cell_type)\n",
    "        pred_loops = read_loops(pred_file)\n",
    "    elif benchmark == 'Peakachu':\n",
    "        pred_loops = []\n",
    "        for i in [1,9,14]:\n",
    "            pred_file = 'benchmarks/peakachu/{}-hic_ctcf-chiapet_10kb/pool/chr{}.bedpe'.format(cell_type,i)\n",
    "            chr_loops = read_loops(pred_file)\n",
    "            pred_loops +=chr_loops\n",
    "    \n",
    "    \n",
    "    # PR-Threshold\n",
    "    for threshold in threshold_list:\n",
    "\n",
    "        thresholded_pred = []\n",
    "\n",
    "        for pred in pred_loops:\n",
    "            score = float(pred[-1])\n",
    "            if score < threshold:\n",
    "                continue\n",
    "            thresholded_pred.append(pred)\n",
    "        print('Threshold : {}'.format(threshold))\n",
    "        \n",
    "        precision_list = []\n",
    "        recall_list = []\n",
    "                \n",
    "        for target_chrom in ['chr1','chr9','chr14']:\n",
    "            gt_list = []\n",
    "            pred_list = []\n",
    "\n",
    "            for pred_loop in tqdm(thresholded_pred):\n",
    "                pred_chr = pred_loop[0]\n",
    "\n",
    "                if 'chr' not in pred_loop[0]:\n",
    "                    pred_chr = 'chr'+str(pred_loop[0])\n",
    "\n",
    "                if pred_chr !=target_chrom:\n",
    "                    continue\n",
    "                x = int((int(pred_loop[1]) + int(pred_loop[2])) * 0.5)\n",
    "                y = int((int(pred_loop[4]) + int(pred_loop[5])) * 0.5)\n",
    "                pred_list.append([min(x, y), max(x, y)])\n",
    "\n",
    "            for gt_loop in gt_loops:\n",
    "\n",
    "                if gt_loop[0] !=target_chrom:\n",
    "                    continue\n",
    "                x = int((int(gt_loop[1]) + int(gt_loop[2])) * 0.5)\n",
    "                y = int((int(gt_loop[4]) + int(gt_loop[5])) * 0.5)\n",
    "                gt_list.append([min(x, y), max(x, y)])\n",
    "    \n",
    "        \n",
    "            _, _, _, precision, recall, _ = compute_true_false( np.array(pred_list),np.array(gt_list), 10 * 10000)\n",
    "            precision_list.append(precision)\n",
    "            recall_list.append(recall)\n",
    "        avg_precision = np.mean(precision)\n",
    "        avg_recall = np.mean(recall)\n",
    "        PR_Dic[benchmark].append([avg_precision,avg_recall])\n"
   ]
  },
  {
   "cell_type": "code",
   "execution_count": null,
   "id": "00668b07",
   "metadata": {},
   "outputs": [],
   "source": [
    "PR_Dic"
   ]
  },
  {
   "cell_type": "code",
   "execution_count": null,
   "id": "f66a1d12",
   "metadata": {},
   "outputs": [],
   "source": [
    "# Calculate AUC\n",
    "\n",
    "for method in PR_Dic.keys():\n",
    "    precision_list = [PR_Dic[method][i][0] for i in range(len(PR_Dic[method]))]\n",
    "    recall_list = [PR_Dic[method][i][1] for i in range(len(PR_Dic[method]))]\n",
    "    \n",
    "    pr_auc = auc(recall_list, precision_list)\n",
    "    \n",
    "    print(\"{}: AUC:{}\".format(method,pr_auc))"
   ]
  },
  {
   "cell_type": "code",
   "execution_count": null,
   "id": "0b170eca",
   "metadata": {},
   "outputs": [],
   "source": []
  }
 ],
 "metadata": {
  "kernelspec": {
   "display_name": "Python [conda env:.conda-python36] *",
   "language": "python",
   "name": "conda-env-.conda-python36-py"
  },
  "language_info": {
   "codemirror_mode": {
    "name": "ipython",
    "version": 3
   },
   "file_extension": ".py",
   "mimetype": "text/x-python",
   "name": "python",
   "nbconvert_exporter": "python",
   "pygments_lexer": "ipython3",
   "version": "3.6.13"
  }
 },
 "nbformat": 4,
 "nbformat_minor": 5
}
